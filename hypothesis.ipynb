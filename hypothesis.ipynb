{
 "cells": [
  {
   "cell_type": "markdown",
   "metadata": {},
   "source": [
    "#### Importing libraries and getting the required columns from database\n"
   ]
  },
  {
   "cell_type": "code",
   "execution_count": null,
   "metadata": {},
   "outputs": [],
   "source": [
    "from sqlalchemy import create_engine\n",
    "import pandas as pd\n",
    "import numpy as np\n",
    "import scipy.stats\n",
    "from scipy.stats import ttest_1samp\n",
    "import getpass\n",
    "\n",
    "password = getpass.getpass()"
   ]
  },
  {
   "cell_type": "code",
   "execution_count": null,
   "metadata": {},
   "outputs": [],
   "source": [
    "connection_string = 'mysql+pymysql://root:' + password + '@localhost/energy_db'\n",
    "engine = create_engine(connection_string)\n",
    "\n",
    "query = '''select district, duration, reignition\n",
    "        from \n",
    "        fires_clean \n",
    "        '''\n",
    "\n",
    "top5_districts = ['Viana do Castelo', 'Viseu', 'Bragança', 'Guarda', 'Vila Real']\n",
    "\n",
    "dataset = pd.read_sql_query(query, engine)\n",
    "dataset_top5 = dataset[dataset['district'].isin(top5_districts)]"
   ]
  },
  {
   "cell_type": "markdown",
   "metadata": {},
   "source": [
    "#### Can Spain be energetically independent? \n",
    "+ H0: Yes, it can --> Total Load Actual <= Total Clean Energy Generated\n",
    "+ H1: No, it can not --> Total Load Actual > Total Clean Energy Generated"
   ]
  },
  {
   "cell_type": "markdown",
   "metadata": {},
   "source": [
    "#### Is it more cheap to produce and consume clean energy? \n",
    "+ H0: Yes, it is --> Price for Clean Energy <= Price for Fossil Energy\n",
    "+ H1: No, it is not --> Price for Clean Energy > Price for Fossil Energy"
   ]
  },
  {
   "cell_type": "markdown",
   "metadata": {},
   "source": [
    "#### Hypothesis testing"
   ]
  },
  {
   "cell_type": "code",
   "execution_count": null,
   "metadata": {},
   "outputs": [],
   "source": [
    "# One-tailed test:\n",
    "# Null hypothesis or H0: mean number of re-ingitions in top 5 districts >= mean for portugal\n",
    "# Alternative hyp or H1: mean number of re-ingitions in top 5 districts < mean for portugal\n",
    "\n",
    "# we select a value for alpha of 0.05 (p-value threshold)\n",
    "alpha=0.05\n",
    "\n",
    "test = dataset_top5['reignition']\n",
    "mean = dataset['reignition'].mean()\n",
    "\n",
    "stat, pval = ttest_1samp(test, mean) # H0 \n",
    "\n",
    "print('Stat: ', round(stat,2))\n",
    "print('P-Val: ', round(pval,2),'\\n')\n",
    "if pval/2 < alpha:\n",
    "    print('Mean number of re-ingitions in top 5 districts equal or higher than Portugal')\n",
    "\n",
    "else:\n",
    "    print('Mean number of re-ingitions in top 5 districts lower than Portugal')"
   ]
  },
  {
   "cell_type": "code",
   "execution_count": null,
   "metadata": {},
   "outputs": [],
   "source": [
    "# One-tailed test:\n",
    "# Null hypothesis or H0: mean number of fires in top 5 districts >= mean for portugal\n",
    "# Alternative hyp or H1: mean number of fires in top 5 districts < mean for portugal\n",
    "\n",
    "# we select a value for alpha of 0.05 (p-value threshold)\n",
    "alpha=0.05\n",
    "\n",
    "test = dataset_top5['district'].value_counts()\n",
    "mean = dataset['district'].value_counts().mean()\n",
    "\n",
    "stat, pval = ttest_1samp(test, mean) # H0 \n",
    "\n",
    "print('Stat: ', round(stat,2))\n",
    "print('P-Val: ', round(pval,2),'\\n')\n",
    "if pval/2 < alpha:\n",
    "    print('Mean number of fires in top 5 districts equal or higher than Portugal')\n",
    "else:\n",
    "    print('Mean number of fires in top 5 districts lower than Portugal')"
   ]
  },
  {
   "cell_type": "markdown",
   "metadata": {},
   "source": [
    "#### Calculating mean values with confidence intervals\n"
   ]
  },
  {
   "cell_type": "code",
   "execution_count": null,
   "metadata": {},
   "outputs": [],
   "source": [
    "confidence_level = .95\n",
    "degrees_freedom = len(dataset['duration']) - 1\n",
    "sample_mean = np.mean(dataset['duration'])\n",
    "\n",
    "sample_standard_error = scipy.stats.sem(dataset['duration']) \n",
    "confidence_interval = scipy.stats.t.interval(confidence_level, \n",
    "                                            degrees_freedom, \n",
    "                                            sample_mean, \n",
    "                                            sample_standard_error)\n",
    "\n",
    "print( '95% confidence interval is ', round(confidence_interval[0],2),'-', round(confidence_interval[1],2))"
   ]
  },
  {
   "cell_type": "code",
   "execution_count": null,
   "metadata": {},
   "outputs": [],
   "source": [
    "confidence_level = .95\n",
    "degrees_freedom = len(dataset_top5['duration']) - 1 \n",
    "sample_mean = np.mean(dataset_top5['duration'])\n",
    "\n",
    "sample_standard_error = scipy.stats.sem(dataset_top5['duration'])\n",
    "confidence_interval = scipy.stats.t.interval(confidence_level, \n",
    "                                            degrees_freedom, \n",
    "                                            sample_mean, \n",
    "                                            sample_standard_error)\n",
    "\n",
    "print( '95% confidence for top5 interval is ', round(confidence_interval[0],2),'-', round(confidence_interval[1],2))"
   ]
  }
 ],
 "metadata": {
  "kernelspec": {
   "display_name": "Python 3.9.12 ('base')",
   "language": "python",
   "name": "python3"
  },
  "language_info": {
   "name": "python",
   "version": "3.9.12"
  },
  "orig_nbformat": 4,
  "vscode": {
   "interpreter": {
    "hash": "6df17fb4df13b71ec05b4aa94d3608f0ccf4cd310a274d15d56bf76c7ef9733e"
   }
  }
 },
 "nbformat": 4,
 "nbformat_minor": 2
}
